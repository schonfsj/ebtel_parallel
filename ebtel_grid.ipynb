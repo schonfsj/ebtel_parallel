{
 "cells": [
  {
   "cell_type": "markdown",
   "metadata": {},
   "source": [
    "Creation of an example ebtel grid for use in GX Simulator"
   ]
  },
  {
   "cell_type": "code",
   "execution_count": null,
   "metadata": {},
   "outputs": [],
   "source": [
    "# Import all necessary modules\n",
    "import ebtel_parallel  # My wrapper routines around ebtelplusplus"
   ]
  },
  {
   "cell_type": "markdown",
   "metadata": {},
   "source": [
    "The following cell computes the entire ebtel grid. Currently, this involves simulating 2940 strands of coronal magnetic field, each for 10 cooling times, and with an annoying amount of file I/O due to how ebtelplusplus is written. With 20 threads, it takes my computer about 2 minutes. You should get progress reports every few-hundred runs or so to reassure you it's still chugging along.\n",
    "\n",
    "Note: This code may occasionally throw \"Timeout or by a memory leak\" errors. As far as I can tell this has no negative impact on the computations."
   ]
  },
  {
   "cell_type": "code",
   "execution_count": null,
   "metadata": {},
   "outputs": [],
   "source": [
    "# Manually set the number of threads you want to use to run ebtelplusplus in parallel.\n",
    "# If not set, defaults to all threads on the computer, which will cause anything else it's doing to become unresponsive.\n",
    "procs = 20\n",
    "\n",
    "# Run a grid of ebtel solutions from the file runs/demo_grid.cfg.xml\n",
    "ebtel_parallel.epp_grid(file='runs/demo_grid', heating='power', stable=0.1, procs=procs)\n",
    "\n",
    "# Or run one model a bunch of times from the file runs/demo_repeat.cfg.xml\n",
    "# ebtel_parallel.epp_repeat(file='runs/demo_repeat', heating='power', runs=1000, stable=0.1, procs=procs)"
   ]
  },
  {
   "cell_type": "markdown",
   "metadata": {},
   "source": [
    "In addition to a ton of files in the tmp/ folder that are saved for diagnostic purposes, the above call generates three files in the runs/ directory:\n",
    "\n",
    "\"demo_grid_params.txt\" contains heating and loop length indices, loop length, heating rate, and maximum temperature of each run computed in the grid\n",
    "\n",
    "\"demo_grid_dems.txt\" contains the transition region and coronal DEM and DDM of each run in the grid. This file is quite large for a text file.\n",
    "\n",
    "\"demo_grid.npz\" generates a numpy zip file containg all the data stored in the .txt files for quick recovery into python using the call: numpy.load('demo_grid.npz').\n",
    "\n",
    "After this, you will need to use IDL to create the IDL save file for GX Simulator. This can be done using ebtelplusplus_read.pro with:"
   ]
  },
  {
   "cell_type": "raw",
   "metadata": {},
   "source": [
    "ebtelplusplus_read, 'demo_grid', file_dir='runs/'"
   ]
  }
 ],
 "metadata": {
  "kernelspec": {
   "display_name": "Python 3 (ipykernel)",
   "language": "python",
   "name": "python3"
  },
  "language_info": {
   "codemirror_mode": {
    "name": "ipython",
    "version": 3
   },
   "file_extension": ".py",
   "mimetype": "text/x-python",
   "name": "python",
   "nbconvert_exporter": "python",
   "pygments_lexer": "ipython3",
   "version": "3.8.13"
  }
 },
 "nbformat": 4,
 "nbformat_minor": 4
}
